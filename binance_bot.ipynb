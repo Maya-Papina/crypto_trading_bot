{
  "nbformat": 4,
  "nbformat_minor": 0,
  "metadata": {
    "colab": {
      "name": "binance_bot.ipynb",
      "provenance": [],
      "collapsed_sections": []
    },
    "kernelspec": {
      "name": "python3",
      "display_name": "Python 3"
    },
    "language_info": {
      "name": "python"
    }
  },
  "cells": [
    {
      "cell_type": "code",
      "execution_count": null,
      "metadata": {
        "id": "-N2EVdcgG0el"
      },
      "outputs": [],
      "source": [
        "from datetime import datetime\n",
        "from binance.client import Client\n",
        "from binance.enums import *\n",
        "from config import api_key, api_secret\n",
        "from time import sleep, time\n",
        "import matplotlib\n",
        "matplotlib.use('MacOSX')\n",
        "import matplotlib.pyplot as plt\n",
        "\n",
        "\n",
        "\n",
        "client = Client(api_key, api_secret) # API key and secret\n",
        "print(client.get_server_time()) # Get server time\n",
        "print('Logged in...')\n",
        "\n",
        "coin = 'ZIL'\n",
        "pair = 'ZILUSDT'\n",
        "\n",
        "def get_time_stamp():\n",
        "    return client.get_server_time()['serverTime']\n",
        "\n",
        "time_stamp = get_time_stamp()\n",
        "\n",
        "def get_datetime_from_int(time_stamp):\n",
        "    return datetime.fromtimestamp(time_stamp/1000)\n",
        "    \n",
        "print('time',get_datetime_from_int(time_stamp))\n",
        "\n",
        "def historical_data_btc(pair, coin):\n",
        "    return client.get_historical_klines(symbol=pair, interval=Client.KLINE_INTERVAL_1MINUTE, start_str='1 day ago UTC')\n",
        "def plot_hist\n",
        "def coin_balance(coin):\n",
        "    return float(client.get_asset_balance(asset=coin)['free']) # Get balance\n",
        "print(\"ZIL balance: \", coin_balance(coin))\n",
        "\n",
        "\n",
        "def get_price(pair):\n",
        "    return float(client.get_symbol_ticker(symbol=pair)['price'])\n",
        "    \n",
        "\n",
        "print(\"Price for 1 coin in USD: \",get_price(pair))\n",
        "\n",
        "def get_total_price_in_usd(pair,coin):\n",
        "    return get_price(pair) * coin_balance(coin)\n",
        "\n",
        "\n",
        "print(\"Total price in USD: \",get_total_price_in_usd(pair,coin))\n",
        "\n",
        "\n",
        "# for i in range(4):\n",
        "#     price = get_price(pair)\n",
        "#     # time = get_time_stamp()\n",
        "#     time = get_datetime_from_int(time_stamp)\n",
        "#     plt.scatter(time, price)\n",
        "#     plt.plot(time, price, 'ro')\n",
        "#     # plt.plot(dates, values, 'xb-')\n",
        "#     # update the plot\n",
        "#     plt.pause(1)\n",
        "\n",
        "#     # display the plot in realtime\n",
        "\n",
        "# plt.show()\n",
        "    \n",
        "price = get_price(pair)\n",
        "time = get_time_stamp()\n",
        "# time = get_datetime_from_int(time_stamp)\n",
        "\n",
        "\n"
      ]
    },
    {
      "cell_type": "code",
      "source": [
        ""
      ],
      "metadata": {
        "id": "iEb8xqbKHILU"
      },
      "execution_count": null,
      "outputs": []
    }
  ]
}